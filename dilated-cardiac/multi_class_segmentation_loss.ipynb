{
 "cells": [
  {
   "cell_type": "code",
   "execution_count": 1,
   "metadata": {
    "collapsed": false,
    "scrolled": true
   },
   "outputs": [
    {
     "name": "stdout",
     "output_type": "stream",
     "text": [
      "210\n",
      "210\n",
      "((210, 136, 110), (210, 136, 110))\n"
     ]
    }
   ],
   "source": [
    "%matplotlib inline\n",
    "\n",
    "import dicom\n",
    "import matplotlib.pyplot as plt\n",
    "import matplotlib.image as mpimg\n",
    "import numpy as np\n",
    "from glob import glob\n",
    "\n",
    "dsb_path = \"/home/anon/kaggle_dsb/1/study/\"\n",
    "label_path = \"/home/anon/regional_label/train/1/study/\"\n",
    "subdirs = glob(label_path + '/*/')\n",
    "labels = []\n",
    "images = []\n",
    "\n",
    "side_crop = 60\n",
    "\n",
    "for subdir in subdirs:\n",
    "    images_path = glob(subdir + '/*')\n",
    "    for image_path in images_path:\n",
    "        dicom_end_path = image_path[image_path.rfind('/study/') + len('/study/'):image_path.rfind('.jpg')]\n",
    "        dc = dicom.read_file(dsb_path + dicom_end_path + '.dcm')\n",
    "        image = dc.pixel_array\n",
    "        image = image[side_crop:image.shape[0] - side_crop, side_crop:image.shape[1] - side_crop]\n",
    "        images.append(image)\n",
    "        img=mpimg.imread(image_path)\n",
    "        \n",
    "        img = img.copy()\n",
    "        img = img[side_crop:img.shape[0] - side_crop, side_crop:img.shape[1] - side_crop]\n",
    "        img[img < 20] = 0\n",
    "        img[(img >= 20) & (img < 40)] = 1\n",
    "        img[(img >= 40) & (img < 60)] = 2\n",
    "        img[(img >= 60) & (img < 80)] = 3\n",
    "        img[(img >= 80) & (img < 100)] = 4\n",
    "        img[(img >= 100) & (img < 120)] = 5\n",
    "        img[img >= 120] = 6\n",
    "        \n",
    "        labels.append(img)\n",
    "\n",
    "# for i in range(50):\n",
    "#     fig, ax = plt.subplots(figsize=(8, 6))\n",
    "#     plt.imshow(images[i])\n",
    "#     plt.show()\n",
    "#     fig, ax = plt.subplots(figsize=(8, 6))\n",
    "#     plt.imshow(labels[i])\n",
    "#     plt.show()\n",
    "print(len(images))\n",
    "print(len(labels))\n",
    "\n",
    "# np.set_printoptions(threshold=np.nan)\n",
    "# print(labels[0][120:140, 100:130])\n",
    "\n",
    "# fig, ax = plt.subplots(figsize=(10, 8))\n",
    "# plt.imshow(labels[100])\n",
    "# print(labels[100][40:80, 55:70])\n",
    "\n",
    "X = np.rollaxis(np.dstack(images), -1)\n",
    "Y = np.rollaxis(np.dstack(labels), -1)\n",
    "print(X.shape, Y.shape)"
   ]
  },
  {
   "cell_type": "code",
   "execution_count": 2,
   "metadata": {
    "collapsed": false
   },
   "outputs": [
    {
     "name": "stderr",
     "output_type": "stream",
     "text": [
      "Using TensorFlow backend.\n"
     ]
    },
    {
     "name": "stdout",
     "output_type": "stream",
     "text": [
      "Couldn't import dot_parser, loading of dot files will not be possible.\n",
      "150 train samples\n",
      "60 test samples\n",
      "x_train shape: (150, 136, 110, 1)\n",
      "y_train_one_hot shape: (150, 136, 110, 7)\n",
      "3\n",
      "[ 0.  0.  0.  1.  0.  0.  0.]\n",
      "_________________________________________________________________\n",
      "Layer (type)                 Output Shape              Param #   \n",
      "=================================================================\n",
      "conv2d_1 (Conv2D)            (None, 136, 110, 32)      320       \n",
      "_________________________________________________________________\n",
      "conv2d_2 (Conv2D)            (None, 136, 110, 32)      9248      \n",
      "_________________________________________________________________\n",
      "predictions (Conv2D)         (None, 136, 110, 7)       231       \n",
      "=================================================================\n",
      "Total params: 9,799\n",
      "Trainable params: 9,799\n",
      "Non-trainable params: 0\n",
      "_________________________________________________________________\n",
      "Train on 150 samples, validate on 60 samples\n",
      "Epoch 1/20\n",
      "150/150 [==============================] - 7s - loss: 1.7592 - acc: 0.9096 - val_loss: 1.5314 - val_acc: 0.9592\n",
      "Epoch 2/20\n",
      "150/150 [==============================] - 3s - loss: 1.2375 - acc: 0.9613 - val_loss: 0.7637 - val_acc: 0.9592\n",
      "Epoch 3/20\n",
      "150/150 [==============================] - 3s - loss: 0.5561 - acc: 0.9613 - val_loss: 0.4084 - val_acc: 0.9592\n",
      "Epoch 4/20\n",
      "150/150 [==============================] - 3s - loss: 0.3834 - acc: 0.9613 - val_loss: 0.3616 - val_acc: 0.9592\n",
      "Epoch 5/20\n",
      "150/150 [==============================] - 3s - loss: 0.3471 - acc: 0.9613 - val_loss: 0.3345 - val_acc: 0.9592\n",
      "Epoch 6/20\n",
      "150/150 [==============================] - 3s - loss: 0.3196 - acc: 0.9613 - val_loss: 0.3088 - val_acc: 0.9592\n",
      "Epoch 7/20\n",
      "150/150 [==============================] - 3s - loss: 0.2932 - acc: 0.9613 - val_loss: 0.2855 - val_acc: 0.9592\n",
      "Epoch 8/20\n",
      "150/150 [==============================] - 3s - loss: 0.2698 - acc: 0.9613 - val_loss: 0.2657 - val_acc: 0.9592\n",
      "Epoch 9/20\n",
      "150/150 [==============================] - 3s - loss: 0.2518 - acc: 0.9613 - val_loss: 0.2529 - val_acc: 0.9592\n",
      "Epoch 10/20\n",
      "150/150 [==============================] - 3s - loss: 0.2402 - acc: 0.9613 - val_loss: 0.2455 - val_acc: 0.9592\n",
      "Epoch 11/20\n",
      "150/150 [==============================] - 3s - loss: 0.2337 - acc: 0.9613 - val_loss: 0.2417 - val_acc: 0.9592\n",
      "Epoch 12/20\n",
      "150/150 [==============================] - 3s - loss: 0.2301 - acc: 0.9613 - val_loss: 0.2398 - val_acc: 0.9592\n",
      "Epoch 13/20\n",
      "150/150 [==============================] - 3s - loss: 0.2280 - acc: 0.9613 - val_loss: 0.2384 - val_acc: 0.9592\n",
      "Epoch 14/20\n",
      "150/150 [==============================] - 3s - loss: 0.2266 - acc: 0.9613 - val_loss: 0.2378 - val_acc: 0.9592\n",
      "Epoch 15/20\n",
      "150/150 [==============================] - 3s - loss: 0.2258 - acc: 0.9613 - val_loss: 0.2377 - val_acc: 0.9592\n",
      "Epoch 16/20\n",
      "150/150 [==============================] - 3s - loss: 0.2253 - acc: 0.9613 - val_loss: 0.2372 - val_acc: 0.9592\n",
      "Epoch 17/20\n",
      "150/150 [==============================] - 3s - loss: 0.2250 - acc: 0.9613 - val_loss: 0.2379 - val_acc: 0.9592\n",
      "Epoch 18/20\n",
      "150/150 [==============================] - 3s - loss: 0.2249 - acc: 0.9613 - val_loss: 0.2369 - val_acc: 0.9592\n",
      "Epoch 19/20\n",
      "150/150 [==============================] - 3s - loss: 0.2245 - acc: 0.9613 - val_loss: 0.2374 - val_acc: 0.9592\n",
      "Epoch 20/20\n",
      "150/150 [==============================] - 3s - loss: 0.2245 - acc: 0.9613 - val_loss: 0.2367 - val_acc: 0.9592\n",
      "(5, 136, 110, 7)\n"
     ]
    }
   ],
   "source": [
    "from __future__ import print_function\n",
    "import keras\n",
    "from keras.datasets import mnist\n",
    "from keras.models import Sequential\n",
    "from keras.layers import Dense, Dropout, Flatten\n",
    "from keras.layers import Conv2D, MaxPooling2D\n",
    "from keras import backend as K\n",
    "\n",
    "batch_size = 16\n",
    "num_classes = 7 # per pixel\n",
    "\n",
    "# input image dimensions\n",
    "img_rows, img_cols = X.shape[1], X.shape[2]\n",
    "\n",
    "# the data, shuffled and split between train and test sets\n",
    "# (x_train, y_train), (x_test, y_test) = mnist.load_data()\n",
    "np.random.shuffle(X)\n",
    "np.random.shuffle(Y)\n",
    "\n",
    "x_train = X[:150]\n",
    "x_test = X[150:]\n",
    "y_train = Y[:150]\n",
    "y_test = Y[150:]\n",
    "\n",
    "if K.image_data_format() == 'channels_first':\n",
    "    x_train = x_train.reshape(x_train.shape[0], 1, img_rows, img_cols)\n",
    "    x_test = x_test.reshape(x_test.shape[0], 1, img_rows, img_cols)\n",
    "    input_shape = (1, img_rows, img_cols)\n",
    "else:\n",
    "    x_train = x_train.reshape(x_train.shape[0], img_rows, img_cols, 1)\n",
    "    x_test = x_test.reshape(x_test.shape[0], img_rows, img_cols, 1)\n",
    "    input_shape = (img_rows, img_cols, 1)\n",
    "\n",
    "x_train = x_train.astype('float32')\n",
    "x_test = x_test.astype('float32')\n",
    "x_train /= 255\n",
    "x_test /= 255\n",
    "\n",
    "y_train_one_hot = np.zeros([y_train.shape[0], y_train.shape[1], y_train.shape[2], num_classes])\n",
    "y_test_one_hot = np.zeros([y_test.shape[0], y_test.shape[1], y_test.shape[2], num_classes])\n",
    "\n",
    "# one-hotize\n",
    "for instance_index in range(y_train.shape[0]):\n",
    "    for row_ind in range(y_train.shape[1]):\n",
    "        for col_ind in range(y_train.shape[2]):\n",
    "            pixel_label = y_train[instance_index, row_ind, col_ind]\n",
    "            y_train_one_hot[instance_index, row_ind, col_ind, pixel_label] = 1\n",
    "\n",
    "for instance_index in range(y_test.shape[0]):\n",
    "    for row_ind in range(y_test.shape[1]):\n",
    "        for col_ind in range(y_test.shape[2]):\n",
    "            pixel_label = y_test[instance_index, row_ind, col_ind]\n",
    "            y_test_one_hot[instance_index, row_ind, col_ind, pixel_label] = 1\n",
    "\n",
    "\n",
    "print(x_train.shape[0], 'train samples')\n",
    "print(x_test.shape[0], 'test samples')\n",
    "\n",
    "print('x_train shape:', x_train.shape)\n",
    "print('y_train_one_hot shape:', y_train_one_hot.shape)\n",
    "print(y_train[100, 70, 60])\n",
    "print(y_train_one_hot[100, 70, 60, :])\n",
    "\n",
    "model = Sequential()\n",
    "model.add(Conv2D(32, kernel_size=(3, 3), padding=\"same\",\n",
    "                 activation='relu',\n",
    "                 input_shape=input_shape))\n",
    "model.add(Conv2D(32, (3, 3), activation='relu', padding=\"same\"))\n",
    "model.add(Conv2D(num_classes, (1, 1), activation='softmax', padding=\"same\", name=\"predictions\"))\n",
    "# model.add(Dense(num_classes, activation='softmax'))\n",
    "\n",
    "model.compile(loss=keras.losses.categorical_crossentropy,\n",
    "              optimizer=keras.optimizers.Adadelta(),\n",
    "              metrics=['accuracy'])\n",
    "\n",
    "# model.compile(optimizer=keras.optimizers.Adadelta(),\n",
    "#               loss=dice_coef_loss,\n",
    "#               metrics=[\"accuracy\"])\n",
    "\n",
    "model.summary()\n",
    "\n",
    "model.fit(x_train, y_train_one_hot,\n",
    "          batch_size=batch_size,\n",
    "          epochs=20,\n",
    "          verbose=1, validation_data=(x_test, y_test_one_hot))\n",
    "\n",
    "sample_output = model.predict_on_batch(x_test[0:5])\n",
    "print(sample_output.shape)\n",
    "\n",
    "# score = model.evaluate(x_test, y_test_one_hot, verbose=0)\n",
    "# print('Test loss:', score[0])\n",
    "# print('Test accuracy:', score[1])"
   ]
  },
  {
   "cell_type": "code",
   "execution_count": 3,
   "metadata": {
    "collapsed": false,
    "scrolled": false
   },
   "outputs": [
    {
     "name": "stdout",
     "output_type": "stream",
     "text": [
      "0.999999822583\n",
      "(136, 110, 7)\n",
      "(136, 110, 7)\n",
      "(136, 110, 7)\n",
      "(136, 110, 7)\n",
      "(136, 110, 7)\n"
     ]
    },
    {
     "data": {
      "image/png": "[encoded data removed]",
      "text/plain": [
       "<matplotlib.figure.Figure at 0x7fe693ef2090>"
      ]
     },
     "metadata": {},
     "output_type": "display_data"
    },
    {
     "data": {
      "image/png": "[encoded data removed]",
      "text/plain": [
       "<matplotlib.figure.Figure at 0x7fe64052e750>"
      ]
     },
     "metadata": {},
     "output_type": "display_data"
    },
    {
     "data": {
      "image/png": "[encoded data removed]",
      "text/plain": [
       "<matplotlib.figure.Figure at 0x7fe6404834d0>"
      ]
     },
     "metadata": {},
     "output_type": "display_data"
    },
    {
     "data": {
      "image/png": "[encoded data removed]",
      "text/plain": [
       "<matplotlib.figure.Figure at 0x7fe640451790>"
      ]
     },
     "metadata": {},
     "output_type": "display_data"
    },
    {
     "data": {
      "image/png": "[encoded data removed]",
      "text/plain": [
       "<matplotlib.figure.Figure at 0x7fe6387e2b10>"
      ]
     },
     "metadata": {},
     "output_type": "display_data"
    }
   ],
   "source": [
    "print(sum(sample_output[1, 30, 20, :]))\n",
    "\n",
    "for i in range(sample_output.shape[0]):\n",
    "    pred_image = sample_output[i]\n",
    "    print(pred_image.shape)\n",
    "    visualize = np.zeros([pred_image.shape[0], pred_image.shape[1]])\n",
    "\n",
    "    for row_ind in range(visualize.shape[0]):\n",
    "        for col_ind in range(visualize.shape[1]):\n",
    "            visualize[row_ind, col_ind] = np.argmax(pred_image[row_ind, col_ind, :])\n",
    "\n",
    "    fig, ax = plt.subplots(figsize=(10, 8))\n",
    "    plt.imshow(visualize)\n",
    "# print(labels[100][40:80, 55:70])"
   ]
  }
 ],
 "metadata": {
  "anaconda-cloud": {},
  "kernelspec": {
   "display_name": "Python [conda root]",
   "language": "python",
   "name": "conda-root-py"
  },
  "language_info": {
   "codemirror_mode": {
    "name": "ipython",
    "version": 2
   },
   "file_extension": ".py",
   "mimetype": "text/x-python",
   "name": "python",
   "nbconvert_exporter": "python",
   "pygments_lexer": "ipython2",
   "version": "2.7.12"
  }
 },
 "nbformat": 4,
 "nbformat_minor": 1
}
