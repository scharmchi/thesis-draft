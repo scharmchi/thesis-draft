{
 "cells": [
  {
   "cell_type": "code",
   "execution_count": 2,
   "metadata": {
    "collapsed": false,
    "scrolled": false
   },
   "outputs": [
    {
     "name": "stdout",
     "output_type": "stream",
     "text": [
      "210\n",
      "210\n"
     ]
    }
   ],
   "source": [
    "%matplotlib inline\n",
    "\n",
    "import dicom\n",
    "import matplotlib.pyplot as plt\n",
    "import matplotlib.image as mpimg\n",
    "import numpy as np\n",
    "from glob import glob\n",
    "\n",
    "dsb_path = \"/home/anon/kaggle_dsb/1/study/\"\n",
    "label_path = \"/home/anon/regional_label/train/1/study/\"\n",
    "subdirs = glob(label_path + '/*/')\n",
    "labels = []\n",
    "images = []\n",
    "\n",
    "for subdir in subdirs:\n",
    "    images_path = glob(subdir + '/*')\n",
    "    for image_path in images_path:\n",
    "        dicom_end_path = image_path[image_path.rfind('/study/') + len('/study/'):image_path.rfind('.jpg')]\n",
    "        dc = dicom.read_file(dsb_path + dicom_end_path + '.dcm')\n",
    "        image = dc.pixel_array\n",
    "        images.append(image)\n",
    "        img=mpimg.imread(image_path)\n",
    "        labels.append(img)\n",
    "\n",
    "# for i in range(40):\n",
    "#     fig, ax = plt.subplots(figsize=(10, 8))\n",
    "#     plt.imshow(images[i])\n",
    "#     plt.show()\n",
    "#     fig, ax = plt.subplots(figsize=(10, 8))\n",
    "#     plt.imshow(labels[i])\n",
    "#     plt.show()\n",
    "print(len(images))\n",
    "print(len(labels))"
   ]
  },
  {
   "cell_type": "code",
   "execution_count": 11,
   "metadata": {
    "collapsed": false
   },
   "outputs": [
    {
     "name": "stdout",
     "output_type": "stream",
     "text": [
      "[[  0   0   0   0   0   0   0   0   0   0   0   0   0   0   0   0   0   0\n",
      "    0   0   0   0   0   0   0   0   0   0   0   0   0   0   0   0   0   0\n",
      "    0   0   0   0]\n",
      " [  0   0   0   0   0   0   0   0   0   0   0   0   0   0   0   0   0   0\n",
      "    0   0   0   0   0   0   0   0   0   0   0   0   0   0   0   0   0   0\n",
      "    0   0   0   0]\n",
      " [  0   0   5   0   0   1 117 121 120 119 121 118 118 121 120 119 100  99\n",
      "  100 100 101   0   0   0   0   1   0   0   1   0   0   0   0   1   0   1\n",
      "    0   0   0   0]\n",
      " [  0   1   0   0 116 122 119 121 119 120 118 123 120 120 121 119 101  99\n",
      "  101 100  98  99 101 101 101   0   0   3   2   0   5   0   0   0   3   0\n",
      "    0   0   0   0]\n",
      " [  0   1   1 120 123 122 119 118 120 121 119 120 121 118 121 118 100  98\n",
      "  101 100 101 103 100  96 105  97 102   0   0   2   1   0   4   0   0   2\n",
      "    0   0   0   0]\n",
      " [  2   2 116 122 118 119 119 121 121 120 120 118 121 118 121 120 100  99\n",
      "  100 100  98 101  98  99 102  99  99 100   0   1   0   3   0   0   0   0\n",
      "    0   0   0   0]\n",
      " [ 18 119 120 121 119 121 120 121 120 119 120 120 120 119 122 121  99 102\n",
      "   99 101 101  96 103 101  98 103 104  96   1   0   3   0   0   2   0   0\n",
      "    0   0   0   0]\n",
      " [ 22  18 120 118 120 120 118 118 120 121 120 120 119 120 121 115  98 102\n",
      "   99 100  98 102 102 100  99  97 100 101 102   0   0   1   2   0   0   1\n",
      "    0   0   0   0]\n",
      " [ 22  22  18  22 118 122 119 121 121 122 118 121 120 119 120 105  99 101\n",
      "   99 100 100 101  96  99 101 101 100 103  99   0   3   0   1   0   0   0\n",
      "    0   0   0   0]\n",
      " [ 20  20  21  19  23  15 121 120 118 120 122 118 122 119 120  98 100 100\n",
      "  101 100 100 102 100 100 100  99 101  77  81   0   0   0   1   0   2   0\n",
      "    0   0   0   0]\n",
      " [ 20  19  20  21  21  21  19 121 121 119 120 120 122 119 121  98  98 101\n",
      "  100  99 102  97 104  99 100  80  80  79  80   0   1   0   0   0   0   0\n",
      "    0   0   0   0]\n",
      " [ 20  20  20  19  17  21  21  20  18 122 119 122 118 119 120 104 100 100\n",
      "  101 101  99  99  98  81  81  78  84  79  80   0   1   0   0   0   0   0\n",
      "    0   0   0   0]\n",
      " [ 20  20  19  19  18  22  19  18  20  20 117 123 123 121 116  99 100  99\n",
      "  102  99  79  82  84  77  79  79  81  78  80   0   1   0   0   0   0   0\n",
      "    0   0   0   0]\n",
      " [ 19  19  19  21  21  19  21  22  19  22  19  19 117 121 122 101 100 102\n",
      "   76  82  80  77  78  82  82  79  79  82  80   0   1   0   0   0   0   0\n",
      "    0   0   0   0]\n",
      " [ 19  20  20  20  22  15  21  20  18  20  21  20  22  39 125  96  79  81\n",
      "   80  80  82  82  80  81  80  81  80  81  80   0   1   0   0   0   0   0\n",
      "    0   0   0   0]\n",
      " [ 20  22  21  19  19  24  21  17  20  18  22  40  39  39  58  80  80  81\n",
      "   82  80  78  79  79  80  80  81  80  79  80   0   1   0   0   0   0   0\n",
      "    0   0   0   0]\n",
      " [ 19  21  21  19  18  22  15  24  20  39  42  37  40  40  62  61  61  80\n",
      "   78  78  84  81  80  79  80  79  80  82  80   0   1   0   0   0   0   0\n",
      "    0   0   0   0]\n",
      " [ 18  18  21  21  21  17  43  40  41  39  40  41  38  42  59  59  61  58\n",
      "   81  82  78  79  81  79  81  80  81  78  80   0   1   0   0   0   0   0\n",
      "    0   0   0   0]\n",
      " [ 24  21  17  22  40  40  40  40  40  40  40  40  42  36  62  62  59  61\n",
      "   58  60  81  80  79  79  82  79  79  82   0   0   0   0   0   0   0   0\n",
      "    0   0   0   0]\n",
      " [ 19  17  41  39  40  40  40  40  40  40  40  40  39  39  60  61  59  61\n",
      "   60  61  59  81  82  82  77  83  82  76   0   0   0   0   0   0   0   0\n",
      "    0   0   0   0]\n",
      " [ 42  41  42  42  40  40  40  40  40  40  40  40  38  46  59  59  60  60\n",
      "   61  61  61  58  58  80  80  79  82  82   0   0   0   0   0   0   0   0\n",
      "    0   0   0   0]\n",
      " [ 41  39  37  39  40  40  40  40  40  40  40  40  40  55  60  60  61  59\n",
      "   60  59  60  62  64  57  83  77  77  82   0   0   0   0   0   0   0   0\n",
      "    0   0   0   0]\n",
      " [  1  42  41  38  40  40  40  40  40  40  40  40  41  61  61  60  61  59\n",
      "   60  59  58  58  60  60  58  63  77   0   0   0   0   0   0   0   0   0\n",
      "    0   0   0   0]\n",
      " [  0  39  40  42  40  40  40  40  40  40  40  40  40  61  60  59  60  60\n",
      "   61  60  62  59  63  58  61  61  61   1   0   0   0   0   0   0   0   0\n",
      "    0   0   0   0]\n",
      " [  2   0  43  37  40  40  40  40  40  40  40  40  39  59  59  60  59  60\n",
      "   60  60  59  60  60  62  59  62   0   0   0   0   0   0   0   0   0   0\n",
      "    0   0   0   0]\n",
      " [  2   0   0  40  40  40  40  40  40  40  40  40  41  59  60  61  59  60\n",
      "   59  60  59  61  59  60  60   0   0   1   0   0   0   0   0   0   0   0\n",
      "    0   0   0   0]\n",
      " [  0   0   0   0  40  38  42  40  40  41  37  41  38  63  59  55  64  60\n",
      "   60  59  59  60  58  61   0   2   0   0   0   0   0   0   0   0   0   0\n",
      "    0   0   0   0]\n",
      " [  0   0   0   0   0  46  38  39  41  42  36  42  40  59  62  64  57  57\n",
      "   61  60  62  60  60   0   0   0   2   0   0   0   0   0   0   0   0   0\n",
      "    0   0   0   0]\n",
      " [  0   0   0   0   0   0   1   2   0  40  41  40  40  58  61  57  64  63\n",
      "   57  60  58   0   2   0   1   0   0   1   0   0   0   0   0   0   0   0\n",
      "    0   0   0   0]\n",
      " [  0   0   0   0   0   7   0   0   0   0   2   0   1   2  61  60  58  58\n",
      "   63   0   2   0   0   0   1   1   0   2   0   0   0   0   0   0   0   0\n",
      "    0   0   0   0]]\n"
     ]
    },
    {
     "data": {
      "text/plain": [
       "<matplotlib.image.AxesImage at 0x7fd00b819110>"
      ]
     },
     "execution_count": 11,
     "metadata": {},
     "output_type": "execute_result"
    },
    {
     "data": {
      "image/png": "[encoded data removed]",
      "text/plain": [
       "<matplotlib.figure.Figure at 0x7fd00b8f4150>"
      ]
     },
     "metadata": {},
     "output_type": "display_data"
    }
   ],
   "source": [
    "np.set_printoptions(threshold=np.nan)\n",
    "print(labels[100][110:140, 100:140])\n",
    "plt.imshow(labels[100])"
   ]
  }
 ],
 "metadata": {
  "anaconda-cloud": {},
  "kernelspec": {
   "display_name": "Python [conda root]",
   "language": "python",
   "name": "conda-root-py"
  },
  "language_info": {
   "codemirror_mode": {
    "name": "ipython",
    "version": 2
   },
   "file_extension": ".py",
   "mimetype": "text/x-python",
   "name": "python",
   "nbconvert_exporter": "python",
   "pygments_lexer": "ipython2",
   "version": "2.7.12"
  }
 },
 "nbformat": 4,
 "nbformat_minor": 1
}
