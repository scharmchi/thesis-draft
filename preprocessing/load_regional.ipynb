{
 "cells": [
  {
   "cell_type": "code",
   "execution_count": 52,
   "metadata": {
    "collapsed": false,
    "scrolled": false
   },
   "outputs": [
    {
     "name": "stdout",
     "output_type": "stream",
     "text": [
      "210\n",
      "210\n",
      "(136, 110)\n",
      "(136, 110)\n",
      "[[0 0 0 0 0 0 0 0 0 0 0 0 0 0 0]\n",
      " [0 0 0 0 0 0 0 0 0 0 0 0 0 0 0]\n",
      " [0 0 0 0 0 0 0 0 0 0 0 0 0 0 0]\n",
      " [0 0 0 0 0 0 0 0 0 0 0 0 0 0 0]\n",
      " [0 0 0 0 0 0 0 0 0 0 0 0 0 0 0]\n",
      " [0 0 0 0 0 0 0 0 0 0 0 0 0 0 0]\n",
      " [0 0 0 0 0 0 0 0 0 0 0 0 0 0 0]\n",
      " [0 0 0 0 0 0 0 0 0 0 0 0 0 0 0]\n",
      " [0 0 0 0 0 0 0 0 0 0 0 0 0 0 0]\n",
      " [0 0 0 0 0 0 0 0 0 0 0 0 0 0 0]\n",
      " [0 0 0 0 0 0 0 0 0 0 0 0 0 0 0]\n",
      " [0 0 0 0 0 0 0 0 0 0 0 0 0 0 0]\n",
      " [5 5 4 5 5 5 0 0 0 0 0 0 0 0 0]\n",
      " [5 5 4 5 5 4 4 5 5 5 0 0 0 0 0]\n",
      " [5 5 4 5 5 5 5 5 4 5 4 5 0 0 0]\n",
      " [6 5 4 5 5 4 5 4 4 5 4 4 5 0 0]\n",
      " [6 4 5 4 5 5 4 5 5 4 5 5 4 0 0]\n",
      " [5 4 5 4 5 4 5 5 5 4 4 5 5 5 0]\n",
      " [5 4 5 4 5 5 5 4 4 5 5 5 5 4 0]\n",
      " [4 5 5 5 5 5 5 5 5 5 4 5 3 4 0]\n",
      " [4 4 5 5 4 5 4 5 4 5 4 4 3 4 0]\n",
      " [5 5 5 5 5 4 4 4 4 4 3 4 3 4 0]\n",
      " [4 5 4 5 4 3 4 4 3 3 3 4 3 4 0]\n",
      " [5 5 5 3 4 4 3 3 4 4 3 3 4 4 0]\n",
      " [4 3 4 4 4 4 4 4 4 4 4 4 4 4 0]\n",
      " [4 4 4 4 4 3 3 3 4 4 4 4 3 4 0]\n",
      " [3 3 4 3 3 4 4 4 3 4 3 4 4 4 0]\n",
      " [2 3 2 4 4 3 3 4 3 4 4 4 3 4 0]\n",
      " [3 2 3 2 3 4 4 3 3 4 3 3 4 0 0]\n",
      " [3 2 3 3 3 2 4 4 4 3 4 4 3 0 0]\n",
      " [2 3 3 3 3 3 2 2 4 4 3 4 4 0 0]\n",
      " [3 3 2 3 2 3 3 3 2 4 3 3 4 0 0]\n",
      " [3 3 2 3 2 2 2 3 3 2 3 3 0 0 0]\n",
      " [2 3 3 3 3 3 2 3 2 3 3 3 0 0 0]\n",
      " [3 2 3 3 3 2 3 3 3 2 3 0 0 0 0]\n",
      " [3 2 3 2 3 2 3 2 3 3 0 0 0 0 0]\n",
      " [2 3 3 3 2 2 3 2 3 0 0 0 0 0 0]\n",
      " [3 2 2 3 3 3 3 3 0 0 0 0 0 0 0]\n",
      " [2 3 3 2 3 2 0 0 0 0 0 0 0 0 0]\n",
      " [3 2 2 3 0 0 0 0 0 0 0 0 0 0 0]]\n"
     ]
    },
    {
     "data": {
      "image/png": "[encoded data removed]",
      "text/plain": [
       "<matplotlib.figure.Figure at 0x7f1f50748f10>"
      ]
     },
     "metadata": {},
     "output_type": "display_data"
    }
   ],
   "source": [
    "%matplotlib inline\n",
    "\n",
    "import dicom\n",
    "import matplotlib.pyplot as plt\n",
    "import matplotlib.image as mpimg\n",
    "import numpy as np\n",
    "from glob import glob\n",
    "\n",
    "dsb_path = \"/home/anon/kaggle_dsb/1/study/\"\n",
    "label_path = \"/home/anon/regional_label/train/1/study/\"\n",
    "subdirs = glob(label_path + '/*/')\n",
    "labels = []\n",
    "images = []\n",
    "\n",
    "side_crop = 60\n",
    "\n",
    "for subdir in subdirs:\n",
    "    images_path = glob(subdir + '/*')\n",
    "    for image_path in images_path:\n",
    "        dicom_end_path = image_path[image_path.rfind('/study/') + len('/study/'):image_path.rfind('.jpg')]\n",
    "        dc = dicom.read_file(dsb_path + dicom_end_path + '.dcm')\n",
    "        image = dc.pixel_array\n",
    "        image = image[side_crop:image.shape[0] - side_crop, side_crop:image.shape[1] - side_crop]\n",
    "        images.append(image)\n",
    "        img=mpimg.imread(image_path)\n",
    "        \n",
    "        img = img.copy()\n",
    "        img = img[side_crop:img.shape[0] - side_crop, side_crop:img.shape[1] - side_crop]\n",
    "        img[img < 20] = 0\n",
    "        img[(img >= 20) & (img < 40)] = 1\n",
    "        img[(img >= 40) & (img < 60)] = 2\n",
    "        img[(img >= 60) & (img < 80)] = 3\n",
    "        img[(img >= 80) & (img < 100)] = 4\n",
    "        img[(img >= 100) & (img < 120)] = 5\n",
    "        img[img >= 120] = 6\n",
    "        \n",
    "        labels.append(img)\n",
    "\n",
    "# for i in range(50):\n",
    "#     fig, ax = plt.subplots(figsize=(8, 6))\n",
    "#     plt.imshow(images[i])\n",
    "#     plt.show()\n",
    "#     fig, ax = plt.subplots(figsize=(8, 6))\n",
    "#     plt.imshow(labels[i])\n",
    "#     plt.show()\n",
    "print(len(images))\n",
    "print(len(labels))\n",
    "\n",
    "# np.set_printoptions(threshold=np.nan)\n",
    "# print(labels[0][120:140, 100:130])\n",
    "print(labels[0].shape)\n",
    "print(images[0].shape)\n",
    "fig, ax = plt.subplots(figsize=(10, 8))\n",
    "plt.imshow(labels[100])\n",
    "print(labels[100][40:80, 55:70])"
   ]
  },
  {
   "cell_type": "code",
   "execution_count": 28,
   "metadata": {
    "collapsed": false
   },
   "outputs": [
    {
     "data": {
      "text/plain": [
       "(array([  5.86770000e+04,   3.90000000e+01,   0.00000000e+00,\n",
       "          6.00000000e+01,   6.60000000e+01,   3.80000000e+01]),\n",
       " array([ 0.        ,  0.66666667,  1.33333333,  2.        ,  2.66666667,\n",
       "         3.33333333,  4.        ]),\n",
       " <a list of 6 Patch objects>)"
      ]
     },
     "execution_count": 28,
     "metadata": {},
     "output_type": "execute_result"
    },
    {
     "data": {
      "image/png": "[encoded data removed]",
      "text/plain": [
       "<matplotlib.figure.Figure at 0x7f1f52ee2050>"
      ]
     },
     "metadata": {},
     "output_type": "display_data"
    }
   ],
   "source": [
    "import matplotlib.pyplot as plt\n",
    "\n",
    "\n",
    "img = labels[0]\n",
    "\n",
    "plt.hist(img.flatten(), bins=6)"
   ]
  }
 ],
 "metadata": {
  "anaconda-cloud": {},
  "kernelspec": {
   "display_name": "Python [conda root]",
   "language": "python",
   "name": "conda-root-py"
  },
  "language_info": {
   "codemirror_mode": {
    "name": "ipython",
    "version": 2
   },
   "file_extension": ".py",
   "mimetype": "text/x-python",
   "name": "python",
   "nbconvert_exporter": "python",
   "pygments_lexer": "ipython2",
   "version": "2.7.12"
  }
 },
 "nbformat": 4,
 "nbformat_minor": 1
}
